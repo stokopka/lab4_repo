{
 "cells": [
  {
   "cell_type": "code",
   "execution_count": 1,
   "metadata": {},
   "outputs": [],
   "source": [
    "from sentinelhub import WmsRequest, WcsRequest, MimeType, CRS, BBox,SHConfig,DataSource,AwsProductRequest,AwsTile,AwsTileRequest\n",
    "import datetime\n",
    "import numpy as np\n",
    "import matplotlib.pyplot as plt\n",
    "import glob\n",
    "import os\n",
    "from osgeo import gdal\n",
    "import sys\n",
    "sys.path.append(r'C:\\Program Files\\QGIS 3.12\\apps\\Python37\\Scripts')\n",
    "import gdal_merge as gm"
   ]
  },
  {
   "cell_type": "code",
   "execution_count": null,
   "metadata": {
    "scrolled": true
   },
   "outputs": [
    {
     "name": "stderr",
     "output_type": "stream",
     "text": [
      "C:\\Users\\сашкин\\AppData\\Roaming\\Python\\Python38\\site-packages\\sentinelhub\\aws.py:164: SHUserWarning: Products with baseline 02.13 are not officially supported in sentinelhub-py. If you notice any errors in naming structure of downloaded data please report an issue at https://github.com/sentinel-hub/sentinelhub-py/issues. Pull requests are also very appreciated\n",
      "  warnings.warn(message, category=SHUserWarning)\n"
     ]
    }
   ],
   "source": [
    "INSTANCE_ID = 'aa356db4-d4b1-4e8a-9467-74d8a832b85a'  # In case you put instance ID into configuration file you can leave this unchanged\n",
    "\n",
    "if INSTANCE_ID:\n",
    "    config = SHConfig()\n",
    "    config.instance_id = INSTANCE_ID\n",
    "else:\n",
    "    config = None\n",
    "\n",
    "product_id = 'S2A_MSIL2A_20190821T085601_N0213_R007_T36UUA_20190821T115206'\n",
    "data_folder = './AwsData'\n",
    "\n",
    "product_request = AwsProductRequest(product_id=product_id,\n",
    "                                    data_folder=data_folder, safe_format=True)\n",
    "product_request.save_data()"
   ]
  },
  {
   "cell_type": "code",
   "execution_count": null,
   "metadata": {
    "scrolled": true
   },
   "outputs": [],
   "source": [
    "for i in [10, 20, 60]:\n",
    "    path = 'A:\\lab4\\S2A_MSIL2A_20190821T085601_N0213_R007_T36UUA_20190821T115206.SAFE\\GRANULE\\L2A_T36UUA_A021740_20190821T085815\\IMG_DATA\\R{}m\\\\'.format(i)\n",
    "    in1 = glob.glob(str(path)+('*B02_{}m.jp2').format(i))\n",
    "    in2 = glob.glob(str(path)+'*B03_{}m.jp2'.format(i))\n",
    "    in3 = glob.glob(str(path)+'*B04_{}m.jp2'.format(i))\n",
    "    in4 = glob.glob(str(path)+'*_*_*8*_{}m.jp2'.format(i))\n",
    "    gm.main(['', '-separate', '-o', 'AR{}.tif'.format(i), in1[0], in2[0], in3[0], in4[0]])"
   ]
  },
  {
   "cell_type": "code",
   "execution_count": null,
   "metadata": {},
   "outputs": [],
   "source": [
    "for i in [1, 2, 6]:\n",
    "    gdal.Warp('12AR{}0.tif'.format(i),'1AR{}0.tif'.format(i),dstSRS=\"EPSG:4326\")"
   ]
  },
  {
   "cell_type": "code",
   "execution_count": null,
   "metadata": {},
   "outputs": [],
   "source": [
    "gdal.Warp('final.tif', ['proek_AR10.tif', 'proek_AR20.tif', 'proek_AR60.tif', 'proek_BR10.tif', 'proek_BR20.tif', 'proek_BR60.tif'])"
   ]
  },
  {
   "cell_type": "code",
   "execution_count": null,
   "metadata": {},
   "outputs": [],
   "source": [
    "gdal.Warp('WrapedImg.tif', 'AllInOne.tif', format = 'GTiff', cutlineDSName='Kyiv_regions.shp', cutlineLayer = 'extent', cropToCutline = True, dstNodata = 0)"
   ]
  },
  {
   "cell_type": "code",
   "execution_count": null,
   "metadata": {},
   "outputs": [],
   "source": []
  }
 ],
 "metadata": {
  "kernelspec": {
   "display_name": "Python 3",
   "language": "python",
   "name": "python3"
  },
  "language_info": {
   "codemirror_mode": {
    "name": "ipython",
    "version": 3
   },
   "file_extension": ".py",
   "mimetype": "text/x-python",
   "name": "python",
   "nbconvert_exporter": "python",
   "pygments_lexer": "ipython3",
   "version": "3.8.3"
  }
 },
 "nbformat": 4,
 "nbformat_minor": 4
}
